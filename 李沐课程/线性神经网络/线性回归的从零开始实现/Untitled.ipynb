{
 "cells": [
  {
   "cell_type": "code",
   "execution_count": null,
   "id": "e4336b51-a145-404f-b73f-cff99a4a45f1",
   "metadata": {},
   "outputs": [],
   "source": []
  }
 ],
 "metadata": {
  "kernelspec": {
   "display_name": "",
   "name": ""
  },
  "language_info": {
   "name": ""
  }
 },
 "nbformat": 4,
 "nbformat_minor": 5
}
