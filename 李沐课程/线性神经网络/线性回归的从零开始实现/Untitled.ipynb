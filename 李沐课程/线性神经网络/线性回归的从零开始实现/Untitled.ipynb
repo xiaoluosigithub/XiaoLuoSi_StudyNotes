{
 "cells": [
  {
   "cell_type": "code",
   "execution_count": null,
   "id": "e4336b51-a145-404f-b73f-cff99a4a45f1",
   "metadata": {
    "lang": "en"
   },
   "outputs": [],
   "source": []
  },
  {
   "cell_type": "markdown",
   "id": "039b5b88",
   "metadata": {
    "lang": "fr"
   },
   "source": []
  },
  {
   "cell_type": "markdown",
   "id": "01160e94",
   "metadata": {
    "lang": "en"
   },
   "source": []
  },
  {
   "cell_type": "markdown",
   "id": "640235ec",
   "metadata": {
    "lang": "fr"
   },
   "source": []
  }
 ],
 "metadata": {
  "kernelspec": {
   "display_name": "DL",
   "language": "python",
   "name": "dl"
  },
  "language_info": {
   "name": ""
  },
  "nbTranslate": {
   "displayLangs": [
    "*"
   ],
   "hotkey": "alt-t",
   "langInMainMenu": true,
   "sourceLang": "en",
   "targetLang": "fr",
   "useGoogleTranslate": true
  }
 },
 "nbformat": 4,
 "nbformat_minor": 5
}
